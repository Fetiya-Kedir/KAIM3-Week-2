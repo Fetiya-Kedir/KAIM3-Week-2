{
  "nbformat": 4,
  "nbformat_minor": 0,
  "metadata": {
    "colab": {
      "provenance": [],
      "authorship_tag": "ABX9TyO0DnzPgoHyUUVeUma+Rkxj",
      "include_colab_link": true
    },
    "kernelspec": {
      "name": "python3",
      "display_name": "Python 3"
    },
    "language_info": {
      "name": "python"
    }
  },
  "cells": [
    {
      "cell_type": "markdown",
      "metadata": {
        "id": "view-in-github",
        "colab_type": "text"
      },
      "source": [
        "<a href=\"https://colab.research.google.com/github/Fetiya-Kedir/KAIM3-Week-2/blob/task-1/notebooks/Task_1_User_Overview_Analysis.ipynb\" target=\"_parent\"><img src=\"https://colab.research.google.com/assets/colab-badge.svg\" alt=\"Open In Colab\"/></a>"
      ]
    },
    {
      "cell_type": "code",
      "execution_count": 1,
      "metadata": {
        "colab": {
          "base_uri": "https://localhost:8080/"
        },
        "id": "M9l30WiuSniM",
        "outputId": "5b5dd488-1990-4e0a-cd0e-ff14ed737f36"
      },
      "outputs": [
        {
          "output_type": "stream",
          "name": "stdout",
          "text": [
            "Cloning into 'KAIM3-Week-2'...\n",
            "remote: Enumerating objects: 22, done.\u001b[K\n",
            "remote: Total 22 (delta 0), reused 0 (delta 0), pack-reused 22 (from 1)\u001b[K\n",
            "Receiving objects: 100% (22/22), 42.23 MiB | 17.94 MiB/s, done.\n",
            "Resolving deltas: 100% (5/5), done.\n",
            "Updating files: 100% (12/12), done.\n"
          ]
        }
      ],
      "source": [
        "!git clone https://github.com/Fetiya-Kedir/KAIM3-Week-2.git\n"
      ]
    },
    {
      "cell_type": "code",
      "source": [
        "%cd KAIM3-Week-2\n"
      ],
      "metadata": {
        "colab": {
          "base_uri": "https://localhost:8080/"
        },
        "id": "-elAx0QGSpj0",
        "outputId": "de9e608e-3f39-4f73-af5e-8990dedd8424"
      },
      "execution_count": 2,
      "outputs": [
        {
          "output_type": "stream",
          "name": "stdout",
          "text": [
            "/content/KAIM3-Week-2\n"
          ]
        }
      ]
    },
    {
      "cell_type": "code",
      "source": [
        "%cd notebooks"
      ],
      "metadata": {
        "colab": {
          "base_uri": "https://localhost:8080/"
        },
        "id": "tJr-1IhMT3DB",
        "outputId": "23f64800-362a-4dbf-dac9-9c75ba833e1d"
      },
      "execution_count": 6,
      "outputs": [
        {
          "output_type": "stream",
          "name": "stdout",
          "text": [
            "/content/KAIM3-Week-2/notebooks\n"
          ]
        }
      ]
    },
    {
      "cell_type": "code",
      "source": [],
      "metadata": {
        "id": "isSZrw4fT7un"
      },
      "execution_count": null,
      "outputs": []
    },
    {
      "cell_type": "code",
      "source": [
        "!ls -R"
      ],
      "metadata": {
        "colab": {
          "base_uri": "https://localhost:8080/"
        },
        "id": "ua-E8AK_SvjW",
        "outputId": "71d0071f-5412-42f5-fb19-e7ceb173b599"
      },
      "execution_count": 3,
      "outputs": [
        {
          "output_type": "stream",
          "name": "stdout",
          "text": [
            ".:\n",
            "cleaned_data.csv  data\tnotebooks  README.md  requirements.txt\tscripts  src  tests\n",
            "\n",
            "./data:\n",
            "telecom.sql\n",
            "\n",
            "./notebooks:\n",
            "EDA.ipynb  __init__.py\n",
            "\n",
            "./scripts:\n",
            "data_processing.py  __init__.py\n",
            "\n",
            "./src:\n",
            "__init__.py\n",
            "\n",
            "./tests:\n",
            "__init__.py\n"
          ]
        }
      ]
    },
    {
      "cell_type": "code",
      "source": [
        "%cd /notebooks\n"
      ],
      "metadata": {
        "colab": {
          "base_uri": "https://localhost:8080/"
        },
        "id": "37HpYd3HTE5E",
        "outputId": "a30e00c9-93bd-4023-d2a0-6d6823638c8f"
      },
      "execution_count": 5,
      "outputs": [
        {
          "output_type": "stream",
          "name": "stdout",
          "text": [
            "[Errno 2] No such file or directory: '/notebooks'\n",
            "/content/KAIM3-Week-2\n"
          ]
        }
      ]
    },
    {
      "cell_type": "code",
      "source": [
        "!ls /content/KAIM3-Week-2/\n"
      ],
      "metadata": {
        "colab": {
          "base_uri": "https://localhost:8080/"
        },
        "id": "FTmtq0sKTqWp",
        "outputId": "b1d2d6d9-9078-42a2-a0a9-a1134b4da354"
      },
      "execution_count": 7,
      "outputs": [
        {
          "output_type": "stream",
          "name": "stdout",
          "text": [
            "cleaned_data.csv  data\tnotebooks  README.md  requirements.txt\tscripts  src  tests\n"
          ]
        }
      ]
    },
    {
      "cell_type": "code",
      "source": [
        "import pandas as pd\n",
        "import numpy as np\n",
        "import matplotlib.pyplot as plt\n",
        "import seaborn as sns"
      ],
      "metadata": {
        "id": "q8SKbGIMZu_9"
      },
      "execution_count": 8,
      "outputs": []
    },
    {
      "cell_type": "code",
      "source": [
        "# Path to the CSV file\n",
        "file_path = '/content/KAIM3-Week-2/cleaned_data.csv'\n",
        "\n",
        "# Load the data\n",
        "df = pd.read_csv(file_path)\n",
        "\n",
        "# Display the first few rows\n",
        "df.head()"
      ],
      "metadata": {
        "colab": {
          "base_uri": "https://localhost:8080/",
          "height": 464
        },
        "id": "V7B6yZTycaTe",
        "outputId": "875807eb-f4a8-4098-c457-d4b28d5458a0"
      },
      "execution_count": 9,
      "outputs": [
        {
          "output_type": "execute_result",
          "data": {
            "text/plain": [
              "      Bearer Id                Start  Start ms                  End  End ms  \\\n",
              "0  3.114483e+18  2019-04-04 12:01:00     770.0  2019-04-25 14:35:00   662.0   \n",
              "1  1.311448e+19  2019-04-09 13:04:00     235.0  2019-04-25 08:15:00   606.0   \n",
              "2  1.311448e+19  2019-04-09 17:42:00       1.0  2019-04-25 11:58:00   652.0   \n",
              "3  1.311145e+19  2019-04-10 00:31:00     486.0  2019-04-25 07:36:00   171.0   \n",
              "4  1.311448e+19  2019-04-12 20:10:00     565.0  2019-04-25 10:40:00   954.0   \n",
              "\n",
              "   Dur. (ms)          IMSI  MSISDN/Number          IMEI  \\\n",
              "0  1823652.0  2.082014e+14   3.366496e+10  3.552121e+13   \n",
              "1  1365104.0  2.082019e+14   3.368185e+10  3.579401e+13   \n",
              "2  1361762.0  2.082003e+14   3.376063e+10  3.528151e+13   \n",
              "3  1321509.0  2.082014e+14   3.375034e+10  3.535661e+13   \n",
              "4  1089009.0  2.082014e+14   3.369980e+10  3.540701e+13   \n",
              "\n",
              "      Last Location Name  ...  Youtube DL (Bytes)  Youtube UL (Bytes)  \\\n",
              "0  9.16456699548519E+015  ...            15854611             2501332   \n",
              "1                L77566A  ...            20247395            19111729   \n",
              "2                D42335A  ...            19725661            14699576   \n",
              "3                T21824A  ...            21388122            15146643   \n",
              "4                D88865A  ...            15259380            18962873   \n",
              "\n",
              "   Netflix DL (Bytes)  Netflix UL (Bytes)  Gaming DL (Bytes)  \\\n",
              "0             8198936             9656251          278082303   \n",
              "1            18338413            17227132          608750074   \n",
              "2            17587794             6163408          229584621   \n",
              "3            13994646             1097942          799538153   \n",
              "4            17124581              415218          527707248   \n",
              "\n",
              "   Gaming UL (Bytes)  Other DL (Bytes)  Other UL (Bytes)  Total UL (Bytes)  \\\n",
              "0           14344150         171744450           8814393          36749741   \n",
              "1            1170709         526904238          15055145          53800391   \n",
              "2             395630         410692588           4215763          27883638   \n",
              "3           10849722         749039933          12797283          43324218   \n",
              "4            3529801         550709500          13910322          38542814   \n",
              "\n",
              "   Total DL (Bytes)  \n",
              "0         308879636  \n",
              "1         653384965  \n",
              "2         279807335  \n",
              "3         846028530  \n",
              "4         569138589  \n",
              "\n",
              "[5 rows x 55 columns]"
            ],
            "text/html": [
              "\n",
              "  <div id=\"df-e11f90eb-b763-4241-8b44-624ce877cb82\" class=\"colab-df-container\">\n",
              "    <div>\n",
              "<style scoped>\n",
              "    .dataframe tbody tr th:only-of-type {\n",
              "        vertical-align: middle;\n",
              "    }\n",
              "\n",
              "    .dataframe tbody tr th {\n",
              "        vertical-align: top;\n",
              "    }\n",
              "\n",
              "    .dataframe thead th {\n",
              "        text-align: right;\n",
              "    }\n",
              "</style>\n",
              "<table border=\"1\" class=\"dataframe\">\n",
              "  <thead>\n",
              "    <tr style=\"text-align: right;\">\n",
              "      <th></th>\n",
              "      <th>Bearer Id</th>\n",
              "      <th>Start</th>\n",
              "      <th>Start ms</th>\n",
              "      <th>End</th>\n",
              "      <th>End ms</th>\n",
              "      <th>Dur. (ms)</th>\n",
              "      <th>IMSI</th>\n",
              "      <th>MSISDN/Number</th>\n",
              "      <th>IMEI</th>\n",
              "      <th>Last Location Name</th>\n",
              "      <th>...</th>\n",
              "      <th>Youtube DL (Bytes)</th>\n",
              "      <th>Youtube UL (Bytes)</th>\n",
              "      <th>Netflix DL (Bytes)</th>\n",
              "      <th>Netflix UL (Bytes)</th>\n",
              "      <th>Gaming DL (Bytes)</th>\n",
              "      <th>Gaming UL (Bytes)</th>\n",
              "      <th>Other DL (Bytes)</th>\n",
              "      <th>Other UL (Bytes)</th>\n",
              "      <th>Total UL (Bytes)</th>\n",
              "      <th>Total DL (Bytes)</th>\n",
              "    </tr>\n",
              "  </thead>\n",
              "  <tbody>\n",
              "    <tr>\n",
              "      <th>0</th>\n",
              "      <td>3.114483e+18</td>\n",
              "      <td>2019-04-04 12:01:00</td>\n",
              "      <td>770.0</td>\n",
              "      <td>2019-04-25 14:35:00</td>\n",
              "      <td>662.0</td>\n",
              "      <td>1823652.0</td>\n",
              "      <td>2.082014e+14</td>\n",
              "      <td>3.366496e+10</td>\n",
              "      <td>3.552121e+13</td>\n",
              "      <td>9.16456699548519E+015</td>\n",
              "      <td>...</td>\n",
              "      <td>15854611</td>\n",
              "      <td>2501332</td>\n",
              "      <td>8198936</td>\n",
              "      <td>9656251</td>\n",
              "      <td>278082303</td>\n",
              "      <td>14344150</td>\n",
              "      <td>171744450</td>\n",
              "      <td>8814393</td>\n",
              "      <td>36749741</td>\n",
              "      <td>308879636</td>\n",
              "    </tr>\n",
              "    <tr>\n",
              "      <th>1</th>\n",
              "      <td>1.311448e+19</td>\n",
              "      <td>2019-04-09 13:04:00</td>\n",
              "      <td>235.0</td>\n",
              "      <td>2019-04-25 08:15:00</td>\n",
              "      <td>606.0</td>\n",
              "      <td>1365104.0</td>\n",
              "      <td>2.082019e+14</td>\n",
              "      <td>3.368185e+10</td>\n",
              "      <td>3.579401e+13</td>\n",
              "      <td>L77566A</td>\n",
              "      <td>...</td>\n",
              "      <td>20247395</td>\n",
              "      <td>19111729</td>\n",
              "      <td>18338413</td>\n",
              "      <td>17227132</td>\n",
              "      <td>608750074</td>\n",
              "      <td>1170709</td>\n",
              "      <td>526904238</td>\n",
              "      <td>15055145</td>\n",
              "      <td>53800391</td>\n",
              "      <td>653384965</td>\n",
              "    </tr>\n",
              "    <tr>\n",
              "      <th>2</th>\n",
              "      <td>1.311448e+19</td>\n",
              "      <td>2019-04-09 17:42:00</td>\n",
              "      <td>1.0</td>\n",
              "      <td>2019-04-25 11:58:00</td>\n",
              "      <td>652.0</td>\n",
              "      <td>1361762.0</td>\n",
              "      <td>2.082003e+14</td>\n",
              "      <td>3.376063e+10</td>\n",
              "      <td>3.528151e+13</td>\n",
              "      <td>D42335A</td>\n",
              "      <td>...</td>\n",
              "      <td>19725661</td>\n",
              "      <td>14699576</td>\n",
              "      <td>17587794</td>\n",
              "      <td>6163408</td>\n",
              "      <td>229584621</td>\n",
              "      <td>395630</td>\n",
              "      <td>410692588</td>\n",
              "      <td>4215763</td>\n",
              "      <td>27883638</td>\n",
              "      <td>279807335</td>\n",
              "    </tr>\n",
              "    <tr>\n",
              "      <th>3</th>\n",
              "      <td>1.311145e+19</td>\n",
              "      <td>2019-04-10 00:31:00</td>\n",
              "      <td>486.0</td>\n",
              "      <td>2019-04-25 07:36:00</td>\n",
              "      <td>171.0</td>\n",
              "      <td>1321509.0</td>\n",
              "      <td>2.082014e+14</td>\n",
              "      <td>3.375034e+10</td>\n",
              "      <td>3.535661e+13</td>\n",
              "      <td>T21824A</td>\n",
              "      <td>...</td>\n",
              "      <td>21388122</td>\n",
              "      <td>15146643</td>\n",
              "      <td>13994646</td>\n",
              "      <td>1097942</td>\n",
              "      <td>799538153</td>\n",
              "      <td>10849722</td>\n",
              "      <td>749039933</td>\n",
              "      <td>12797283</td>\n",
              "      <td>43324218</td>\n",
              "      <td>846028530</td>\n",
              "    </tr>\n",
              "    <tr>\n",
              "      <th>4</th>\n",
              "      <td>1.311448e+19</td>\n",
              "      <td>2019-04-12 20:10:00</td>\n",
              "      <td>565.0</td>\n",
              "      <td>2019-04-25 10:40:00</td>\n",
              "      <td>954.0</td>\n",
              "      <td>1089009.0</td>\n",
              "      <td>2.082014e+14</td>\n",
              "      <td>3.369980e+10</td>\n",
              "      <td>3.540701e+13</td>\n",
              "      <td>D88865A</td>\n",
              "      <td>...</td>\n",
              "      <td>15259380</td>\n",
              "      <td>18962873</td>\n",
              "      <td>17124581</td>\n",
              "      <td>415218</td>\n",
              "      <td>527707248</td>\n",
              "      <td>3529801</td>\n",
              "      <td>550709500</td>\n",
              "      <td>13910322</td>\n",
              "      <td>38542814</td>\n",
              "      <td>569138589</td>\n",
              "    </tr>\n",
              "  </tbody>\n",
              "</table>\n",
              "<p>5 rows × 55 columns</p>\n",
              "</div>\n",
              "    <div class=\"colab-df-buttons\">\n",
              "\n",
              "  <div class=\"colab-df-container\">\n",
              "    <button class=\"colab-df-convert\" onclick=\"convertToInteractive('df-e11f90eb-b763-4241-8b44-624ce877cb82')\"\n",
              "            title=\"Convert this dataframe to an interactive table.\"\n",
              "            style=\"display:none;\">\n",
              "\n",
              "  <svg xmlns=\"http://www.w3.org/2000/svg\" height=\"24px\" viewBox=\"0 -960 960 960\">\n",
              "    <path d=\"M120-120v-720h720v720H120Zm60-500h600v-160H180v160Zm220 220h160v-160H400v160Zm0 220h160v-160H400v160ZM180-400h160v-160H180v160Zm440 0h160v-160H620v160ZM180-180h160v-160H180v160Zm440 0h160v-160H620v160Z\"/>\n",
              "  </svg>\n",
              "    </button>\n",
              "\n",
              "  <style>\n",
              "    .colab-df-container {\n",
              "      display:flex;\n",
              "      gap: 12px;\n",
              "    }\n",
              "\n",
              "    .colab-df-convert {\n",
              "      background-color: #E8F0FE;\n",
              "      border: none;\n",
              "      border-radius: 50%;\n",
              "      cursor: pointer;\n",
              "      display: none;\n",
              "      fill: #1967D2;\n",
              "      height: 32px;\n",
              "      padding: 0 0 0 0;\n",
              "      width: 32px;\n",
              "    }\n",
              "\n",
              "    .colab-df-convert:hover {\n",
              "      background-color: #E2EBFA;\n",
              "      box-shadow: 0px 1px 2px rgba(60, 64, 67, 0.3), 0px 1px 3px 1px rgba(60, 64, 67, 0.15);\n",
              "      fill: #174EA6;\n",
              "    }\n",
              "\n",
              "    .colab-df-buttons div {\n",
              "      margin-bottom: 4px;\n",
              "    }\n",
              "\n",
              "    [theme=dark] .colab-df-convert {\n",
              "      background-color: #3B4455;\n",
              "      fill: #D2E3FC;\n",
              "    }\n",
              "\n",
              "    [theme=dark] .colab-df-convert:hover {\n",
              "      background-color: #434B5C;\n",
              "      box-shadow: 0px 1px 3px 1px rgba(0, 0, 0, 0.15);\n",
              "      filter: drop-shadow(0px 1px 2px rgba(0, 0, 0, 0.3));\n",
              "      fill: #FFFFFF;\n",
              "    }\n",
              "  </style>\n",
              "\n",
              "    <script>\n",
              "      const buttonEl =\n",
              "        document.querySelector('#df-e11f90eb-b763-4241-8b44-624ce877cb82 button.colab-df-convert');\n",
              "      buttonEl.style.display =\n",
              "        google.colab.kernel.accessAllowed ? 'block' : 'none';\n",
              "\n",
              "      async function convertToInteractive(key) {\n",
              "        const element = document.querySelector('#df-e11f90eb-b763-4241-8b44-624ce877cb82');\n",
              "        const dataTable =\n",
              "          await google.colab.kernel.invokeFunction('convertToInteractive',\n",
              "                                                    [key], {});\n",
              "        if (!dataTable) return;\n",
              "\n",
              "        const docLinkHtml = 'Like what you see? Visit the ' +\n",
              "          '<a target=\"_blank\" href=https://colab.research.google.com/notebooks/data_table.ipynb>data table notebook</a>'\n",
              "          + ' to learn more about interactive tables.';\n",
              "        element.innerHTML = '';\n",
              "        dataTable['output_type'] = 'display_data';\n",
              "        await google.colab.output.renderOutput(dataTable, element);\n",
              "        const docLink = document.createElement('div');\n",
              "        docLink.innerHTML = docLinkHtml;\n",
              "        element.appendChild(docLink);\n",
              "      }\n",
              "    </script>\n",
              "  </div>\n",
              "\n",
              "\n",
              "<div id=\"df-ef0ef823-57bf-4e88-9f11-bf0591b49785\">\n",
              "  <button class=\"colab-df-quickchart\" onclick=\"quickchart('df-ef0ef823-57bf-4e88-9f11-bf0591b49785')\"\n",
              "            title=\"Suggest charts\"\n",
              "            style=\"display:none;\">\n",
              "\n",
              "<svg xmlns=\"http://www.w3.org/2000/svg\" height=\"24px\"viewBox=\"0 0 24 24\"\n",
              "     width=\"24px\">\n",
              "    <g>\n",
              "        <path d=\"M19 3H5c-1.1 0-2 .9-2 2v14c0 1.1.9 2 2 2h14c1.1 0 2-.9 2-2V5c0-1.1-.9-2-2-2zM9 17H7v-7h2v7zm4 0h-2V7h2v10zm4 0h-2v-4h2v4z\"/>\n",
              "    </g>\n",
              "</svg>\n",
              "  </button>\n",
              "\n",
              "<style>\n",
              "  .colab-df-quickchart {\n",
              "      --bg-color: #E8F0FE;\n",
              "      --fill-color: #1967D2;\n",
              "      --hover-bg-color: #E2EBFA;\n",
              "      --hover-fill-color: #174EA6;\n",
              "      --disabled-fill-color: #AAA;\n",
              "      --disabled-bg-color: #DDD;\n",
              "  }\n",
              "\n",
              "  [theme=dark] .colab-df-quickchart {\n",
              "      --bg-color: #3B4455;\n",
              "      --fill-color: #D2E3FC;\n",
              "      --hover-bg-color: #434B5C;\n",
              "      --hover-fill-color: #FFFFFF;\n",
              "      --disabled-bg-color: #3B4455;\n",
              "      --disabled-fill-color: #666;\n",
              "  }\n",
              "\n",
              "  .colab-df-quickchart {\n",
              "    background-color: var(--bg-color);\n",
              "    border: none;\n",
              "    border-radius: 50%;\n",
              "    cursor: pointer;\n",
              "    display: none;\n",
              "    fill: var(--fill-color);\n",
              "    height: 32px;\n",
              "    padding: 0;\n",
              "    width: 32px;\n",
              "  }\n",
              "\n",
              "  .colab-df-quickchart:hover {\n",
              "    background-color: var(--hover-bg-color);\n",
              "    box-shadow: 0 1px 2px rgba(60, 64, 67, 0.3), 0 1px 3px 1px rgba(60, 64, 67, 0.15);\n",
              "    fill: var(--button-hover-fill-color);\n",
              "  }\n",
              "\n",
              "  .colab-df-quickchart-complete:disabled,\n",
              "  .colab-df-quickchart-complete:disabled:hover {\n",
              "    background-color: var(--disabled-bg-color);\n",
              "    fill: var(--disabled-fill-color);\n",
              "    box-shadow: none;\n",
              "  }\n",
              "\n",
              "  .colab-df-spinner {\n",
              "    border: 2px solid var(--fill-color);\n",
              "    border-color: transparent;\n",
              "    border-bottom-color: var(--fill-color);\n",
              "    animation:\n",
              "      spin 1s steps(1) infinite;\n",
              "  }\n",
              "\n",
              "  @keyframes spin {\n",
              "    0% {\n",
              "      border-color: transparent;\n",
              "      border-bottom-color: var(--fill-color);\n",
              "      border-left-color: var(--fill-color);\n",
              "    }\n",
              "    20% {\n",
              "      border-color: transparent;\n",
              "      border-left-color: var(--fill-color);\n",
              "      border-top-color: var(--fill-color);\n",
              "    }\n",
              "    30% {\n",
              "      border-color: transparent;\n",
              "      border-left-color: var(--fill-color);\n",
              "      border-top-color: var(--fill-color);\n",
              "      border-right-color: var(--fill-color);\n",
              "    }\n",
              "    40% {\n",
              "      border-color: transparent;\n",
              "      border-right-color: var(--fill-color);\n",
              "      border-top-color: var(--fill-color);\n",
              "    }\n",
              "    60% {\n",
              "      border-color: transparent;\n",
              "      border-right-color: var(--fill-color);\n",
              "    }\n",
              "    80% {\n",
              "      border-color: transparent;\n",
              "      border-right-color: var(--fill-color);\n",
              "      border-bottom-color: var(--fill-color);\n",
              "    }\n",
              "    90% {\n",
              "      border-color: transparent;\n",
              "      border-bottom-color: var(--fill-color);\n",
              "    }\n",
              "  }\n",
              "</style>\n",
              "\n",
              "  <script>\n",
              "    async function quickchart(key) {\n",
              "      const quickchartButtonEl =\n",
              "        document.querySelector('#' + key + ' button');\n",
              "      quickchartButtonEl.disabled = true;  // To prevent multiple clicks.\n",
              "      quickchartButtonEl.classList.add('colab-df-spinner');\n",
              "      try {\n",
              "        const charts = await google.colab.kernel.invokeFunction(\n",
              "            'suggestCharts', [key], {});\n",
              "      } catch (error) {\n",
              "        console.error('Error during call to suggestCharts:', error);\n",
              "      }\n",
              "      quickchartButtonEl.classList.remove('colab-df-spinner');\n",
              "      quickchartButtonEl.classList.add('colab-df-quickchart-complete');\n",
              "    }\n",
              "    (() => {\n",
              "      let quickchartButtonEl =\n",
              "        document.querySelector('#df-ef0ef823-57bf-4e88-9f11-bf0591b49785 button');\n",
              "      quickchartButtonEl.style.display =\n",
              "        google.colab.kernel.accessAllowed ? 'block' : 'none';\n",
              "    })();\n",
              "  </script>\n",
              "</div>\n",
              "\n",
              "    </div>\n",
              "  </div>\n"
            ],
            "application/vnd.google.colaboratory.intrinsic+json": {
              "type": "dataframe",
              "variable_name": "df"
            }
          },
          "metadata": {},
          "execution_count": 9
        }
      ]
    },
    {
      "cell_type": "code",
      "source": [
        "print(df.columns)\n"
      ],
      "metadata": {
        "colab": {
          "base_uri": "https://localhost:8080/"
        },
        "id": "Rj71AMi1ceCe",
        "outputId": "1e6dd62e-506c-4e35-d9a8-c7e27a1f97b5"
      },
      "execution_count": 10,
      "outputs": [
        {
          "output_type": "stream",
          "name": "stdout",
          "text": [
            "Index(['Bearer Id', 'Start', 'Start ms', 'End', 'End ms', 'Dur. (ms)', 'IMSI',\n",
            "       'MSISDN/Number', 'IMEI', 'Last Location Name', 'Avg RTT DL (ms)',\n",
            "       'Avg RTT UL (ms)', 'Avg Bearer TP DL (kbps)', 'Avg Bearer TP UL (kbps)',\n",
            "       'TCP DL Retrans. Vol (Bytes)', 'TCP UL Retrans. Vol (Bytes)',\n",
            "       'DL TP < 50 Kbps (%)', '50 Kbps < DL TP < 250 Kbps (%)',\n",
            "       '250 Kbps < DL TP < 1 Mbps (%)', 'DL TP > 1 Mbps (%)',\n",
            "       'UL TP < 10 Kbps (%)', '10 Kbps < UL TP < 50 Kbps (%)',\n",
            "       '50 Kbps < UL TP < 300 Kbps (%)', 'UL TP > 300 Kbps (%)',\n",
            "       'HTTP DL (Bytes)', 'HTTP UL (Bytes)', 'Activity Duration DL (ms)',\n",
            "       'Activity Duration UL (ms)', 'Dur. (ms).1', 'Handset Manufacturer',\n",
            "       'Handset Type', 'Nb of sec with 125000B < Vol DL',\n",
            "       'Nb of sec with 1250B < Vol UL < 6250B',\n",
            "       'Nb of sec with 31250B < Vol DL < 125000B',\n",
            "       'Nb of sec with 37500B < Vol UL',\n",
            "       'Nb of sec with 6250B < Vol DL < 31250B',\n",
            "       'Nb of sec with 6250B < Vol UL < 37500B',\n",
            "       'Nb of sec with Vol DL < 6250B', 'Nb of sec with Vol UL < 1250B',\n",
            "       'Social Media DL (Bytes)', 'Social Media UL (Bytes)',\n",
            "       'Google DL (Bytes)', 'Google UL (Bytes)', 'Email DL (Bytes)',\n",
            "       'Email UL (Bytes)', 'Youtube DL (Bytes)', 'Youtube UL (Bytes)',\n",
            "       'Netflix DL (Bytes)', 'Netflix UL (Bytes)', 'Gaming DL (Bytes)',\n",
            "       'Gaming UL (Bytes)', 'Other DL (Bytes)', 'Other UL (Bytes)',\n",
            "       'Total UL (Bytes)', 'Total DL (Bytes)'],\n",
            "      dtype='object')\n"
          ]
        }
      ]
    },
    {
      "cell_type": "code",
      "source": [
        "print(df.isnull().sum())\n"
      ],
      "metadata": {
        "colab": {
          "base_uri": "https://localhost:8080/"
        },
        "id": "S7LB1zkQckGe",
        "outputId": "6b530fcd-a91e-4628-c500-84d733a42a78"
      },
      "execution_count": 11,
      "outputs": [
        {
          "output_type": "stream",
          "name": "stdout",
          "text": [
            "Bearer Id                                        0\n",
            "Start                                            0\n",
            "Start ms                                         0\n",
            "End                                              0\n",
            "End ms                                           0\n",
            "Dur. (ms)                                        0\n",
            "IMSI                                             9\n",
            "MSISDN/Number                                  504\n",
            "IMEI                                            11\n",
            "Last Location Name                             162\n",
            "Avg RTT DL (ms)                              27685\n",
            "Avg RTT UL (ms)                              27666\n",
            "Avg Bearer TP DL (kbps)                          0\n",
            "Avg Bearer TP UL (kbps)                          0\n",
            "TCP DL Retrans. Vol (Bytes)                  87906\n",
            "TCP UL Retrans. Vol (Bytes)                  96368\n",
            "DL TP < 50 Kbps (%)                            716\n",
            "50 Kbps < DL TP < 250 Kbps (%)                 716\n",
            "250 Kbps < DL TP < 1 Mbps (%)                  716\n",
            "DL TP > 1 Mbps (%)                             716\n",
            "UL TP < 10 Kbps (%)                            770\n",
            "10 Kbps < UL TP < 50 Kbps (%)                  770\n",
            "50 Kbps < UL TP < 300 Kbps (%)                 770\n",
            "UL TP > 300 Kbps (%)                           770\n",
            "HTTP DL (Bytes)                              81228\n",
            "HTTP UL (Bytes)                              81578\n",
            "Activity Duration DL (ms)                        0\n",
            "Activity Duration UL (ms)                        0\n",
            "Dur. (ms).1                                      0\n",
            "Handset Manufacturer                            11\n",
            "Handset Type                                    11\n",
            "Nb of sec with 125000B < Vol DL              97000\n",
            "Nb of sec with 1250B < Vol UL < 6250B        92448\n",
            "Nb of sec with 31250B < Vol DL < 125000B     93162\n",
            "Nb of sec with 37500B < Vol UL              129375\n",
            "Nb of sec with 6250B < Vol DL < 31250B       87987\n",
            "Nb of sec with 6250B < Vol UL < 37500B      111135\n",
            "Nb of sec with Vol DL < 6250B                  717\n",
            "Nb of sec with Vol UL < 1250B                  771\n",
            "Social Media DL (Bytes)                          0\n",
            "Social Media UL (Bytes)                          0\n",
            "Google DL (Bytes)                                0\n",
            "Google UL (Bytes)                                0\n",
            "Email DL (Bytes)                                 0\n",
            "Email UL (Bytes)                                 0\n",
            "Youtube DL (Bytes)                               0\n",
            "Youtube UL (Bytes)                               0\n",
            "Netflix DL (Bytes)                               0\n",
            "Netflix UL (Bytes)                               0\n",
            "Gaming DL (Bytes)                                0\n",
            "Gaming UL (Bytes)                                0\n",
            "Other DL (Bytes)                                 0\n",
            "Other UL (Bytes)                                 0\n",
            "Total UL (Bytes)                                 0\n",
            "Total DL (Bytes)                                 0\n",
            "dtype: int64\n"
          ]
        }
      ]
    },
    {
      "cell_type": "code",
      "source": [
        "df.info()\n"
      ],
      "metadata": {
        "colab": {
          "base_uri": "https://localhost:8080/"
        },
        "id": "W5PgmsDrcmvd",
        "outputId": "a96d06b5-f1cd-40c4-f581-2df7c47ec00a"
      },
      "execution_count": 12,
      "outputs": [
        {
          "output_type": "stream",
          "name": "stdout",
          "text": [
            "<class 'pandas.core.frame.DataFrame'>\n",
            "RangeIndex: 149010 entries, 0 to 149009\n",
            "Data columns (total 55 columns):\n",
            " #   Column                                    Non-Null Count   Dtype  \n",
            "---  ------                                    --------------   -----  \n",
            " 0   Bearer Id                                 149010 non-null  float64\n",
            " 1   Start                                     149010 non-null  object \n",
            " 2   Start ms                                  149010 non-null  float64\n",
            " 3   End                                       149010 non-null  object \n",
            " 4   End ms                                    149010 non-null  float64\n",
            " 5   Dur. (ms)                                 149010 non-null  float64\n",
            " 6   IMSI                                      149001 non-null  float64\n",
            " 7   MSISDN/Number                             148506 non-null  float64\n",
            " 8   IMEI                                      148999 non-null  float64\n",
            " 9   Last Location Name                        148848 non-null  object \n",
            " 10  Avg RTT DL (ms)                           121325 non-null  float64\n",
            " 11  Avg RTT UL (ms)                           121344 non-null  float64\n",
            " 12  Avg Bearer TP DL (kbps)                   149010 non-null  int64  \n",
            " 13  Avg Bearer TP UL (kbps)                   149010 non-null  int64  \n",
            " 14  TCP DL Retrans. Vol (Bytes)               61104 non-null   float64\n",
            " 15  TCP UL Retrans. Vol (Bytes)               52642 non-null   float64\n",
            " 16  DL TP < 50 Kbps (%)                       148294 non-null  float64\n",
            " 17  50 Kbps < DL TP < 250 Kbps (%)            148294 non-null  float64\n",
            " 18  250 Kbps < DL TP < 1 Mbps (%)             148294 non-null  float64\n",
            " 19  DL TP > 1 Mbps (%)                        148294 non-null  float64\n",
            " 20  UL TP < 10 Kbps (%)                       148240 non-null  float64\n",
            " 21  10 Kbps < UL TP < 50 Kbps (%)             148240 non-null  float64\n",
            " 22  50 Kbps < UL TP < 300 Kbps (%)            148240 non-null  float64\n",
            " 23  UL TP > 300 Kbps (%)                      148240 non-null  float64\n",
            " 24  HTTP DL (Bytes)                           67782 non-null   float64\n",
            " 25  HTTP UL (Bytes)                           67432 non-null   float64\n",
            " 26  Activity Duration DL (ms)                 149010 non-null  int64  \n",
            " 27  Activity Duration UL (ms)                 149010 non-null  int64  \n",
            " 28  Dur. (ms).1                               149010 non-null  int64  \n",
            " 29  Handset Manufacturer                      148999 non-null  object \n",
            " 30  Handset Type                              148999 non-null  object \n",
            " 31  Nb of sec with 125000B < Vol DL           52010 non-null   float64\n",
            " 32  Nb of sec with 1250B < Vol UL < 6250B     56562 non-null   float64\n",
            " 33  Nb of sec with 31250B < Vol DL < 125000B  55848 non-null   float64\n",
            " 34  Nb of sec with 37500B < Vol UL            19635 non-null   float64\n",
            " 35  Nb of sec with 6250B < Vol DL < 31250B    61023 non-null   float64\n",
            " 36  Nb of sec with 6250B < Vol UL < 37500B    37875 non-null   float64\n",
            " 37  Nb of sec with Vol DL < 6250B             148293 non-null  float64\n",
            " 38  Nb of sec with Vol UL < 1250B             148239 non-null  float64\n",
            " 39  Social Media DL (Bytes)                   149010 non-null  int64  \n",
            " 40  Social Media UL (Bytes)                   149010 non-null  int64  \n",
            " 41  Google DL (Bytes)                         149010 non-null  int64  \n",
            " 42  Google UL (Bytes)                         149010 non-null  int64  \n",
            " 43  Email DL (Bytes)                          149010 non-null  int64  \n",
            " 44  Email UL (Bytes)                          149010 non-null  int64  \n",
            " 45  Youtube DL (Bytes)                        149010 non-null  int64  \n",
            " 46  Youtube UL (Bytes)                        149010 non-null  int64  \n",
            " 47  Netflix DL (Bytes)                        149010 non-null  int64  \n",
            " 48  Netflix UL (Bytes)                        149010 non-null  int64  \n",
            " 49  Gaming DL (Bytes)                         149010 non-null  int64  \n",
            " 50  Gaming UL (Bytes)                         149010 non-null  int64  \n",
            " 51  Other DL (Bytes)                          149010 non-null  int64  \n",
            " 52  Other UL (Bytes)                          149010 non-null  int64  \n",
            " 53  Total UL (Bytes)                          149010 non-null  int64  \n",
            " 54  Total DL (Bytes)                          149010 non-null  int64  \n",
            "dtypes: float64(29), int64(21), object(5)\n",
            "memory usage: 62.5+ MB\n"
          ]
        }
      ]
    },
    {
      "cell_type": "code",
      "source": [],
      "metadata": {
        "id": "-O0-FBMNcp96"
      },
      "execution_count": null,
      "outputs": []
    }
  ]
}